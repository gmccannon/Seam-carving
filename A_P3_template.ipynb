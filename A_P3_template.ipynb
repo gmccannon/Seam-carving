{
 "cells": [
  {
   "cell_type": "code",
   "execution_count": 52,
   "id": "f7560448",
   "metadata": {},
   "outputs": [],
   "source": [
    "# DO NOT modify this cell. \n",
    "filename = \"Buchtel.pgm\"\n",
    "verticalSeam2Remove = 10\n",
    "horizontalSeam2Remove = 8\n",
    "\n",
    "# Yes, you can create your own test cases and you should. Do it in a new cell."
   ]
  },
  {
   "cell_type": "code",
   "execution_count": 219,
   "id": "b7b5c837",
   "metadata": {},
   "outputs": [],
   "source": [
    "filename = \"CAS.pgm\"\n",
    "verticalSeam2Remove = 20\n",
    "horizontalSeam2Remove = 50"
   ]
  },
  {
   "cell_type": "code",
   "execution_count": 239,
   "id": "33776501",
   "metadata": {},
   "outputs": [],
   "source": [
    "import numpy as np\n"
   ]
  },
  {
   "cell_type": "code",
   "execution_count": 240,
   "id": "dad37c88",
   "metadata": {},
   "outputs": [
    {
     "name": "stdout",
     "output_type": "stream",
     "text": [
      "CAS_M_processed_20_0.pgm\n"
     ]
    }
   ],
   "source": [
    "# Part I : Vertical seam removal only\n",
    "# Save your processed file to img_processed_v_h.pgm\n",
    "filename1 = filename.split(\".\")[0]+\"_M_processed_\"+str(verticalSeam2Remove)+\"_0.pgm\"\n",
    "print(filename1)\n",
    "\n",
    "# function to read the input image\n",
    "def parse_pgm(filename):\n",
    "    with open(filename, 'r') as file:\n",
    "        # Read and discard the header and comment lines\n",
    "        magic = file.readline()\n",
    "        comment = file.readline()\n",
    "\n",
    "        # Read width and height\n",
    "        width, height = map(int, file.readline().split())\n",
    "\n",
    "        # Read and discard the max value indicator\n",
    "        max_color_value = file.readline()\n",
    "\n",
    "        # Read pixel values into a flat list\n",
    "        pixel_values = list(map(int, file.read().split()))\n",
    "\n",
    "    # Reshape the flat list into a 2D array\n",
    "    image = [pixel_values[i * width:(i + 1) * width] for i in range(height)]\n",
    "\n",
    "    return image\n",
    "\n",
    "\n",
    "# function to create an output file\n",
    "def output_file(out_file, out_file_name):\n",
    "    with open(out_file_name, 'w') as file:\n",
    "        # header\n",
    "        file.write('P2\\n')\n",
    "        file.write('This is the output image\\n')\n",
    "        file.write(f'{len(out_file[0])} {len(out_file)}\\n')\n",
    "        file.write('255\\n')\n",
    "\n",
    "        # pixel body\n",
    "        for row in out_file:\n",
    "            for column in row:\n",
    "                file.write(str(column))\n",
    "                file.write(\" \")\n",
    "            file.write(\"\\n\")\n",
    "\n",
    "def main():\n",
    "    # input the image to seam\n",
    "    img = parse_pgm(filename)\n",
    "    \n",
    "    # Output the image as text\n",
    "    output_file(img, filename1)\n",
    "\n",
    "\n",
    "if __name__ == '__main__':\n",
    "    main()\n"
   ]
  },
  {
   "cell_type": "code",
   "execution_count": 3,
   "id": "f3da3f06",
   "metadata": {},
   "outputs": [
    {
     "name": "stdout",
     "output_type": "stream",
     "text": [
      "Buchtel_processed_10_8.pgm\n"
     ]
    }
   ],
   "source": [
    "# Part II : both vertical and horizontal seams removal \n",
    "# Save your processed file to img_processed_v_h.pgm\n",
    "filename2 = filename.split(\".\")[0]+\"_processed_\"+ str(verticalSeam2Remove)+\"_\"+str(horizontalSeam2Remove)+\".pgm\"\n",
    "print(filename2)\n",
    "\n",
    "# your code, add cells as you need"
   ]
  }
 ],
 "metadata": {
  "kernelspec": {
   "display_name": "Python 3 (ipykernel)",
   "language": "python",
   "name": "python3"
  },
  "language_info": {
   "codemirror_mode": {
    "name": "ipython",
    "version": 3
   },
   "file_extension": ".py",
   "mimetype": "text/x-python",
   "name": "python",
   "nbconvert_exporter": "python",
   "pygments_lexer": "ipython3",
   "version": "3.9.6"
  }
 },
 "nbformat": 4,
 "nbformat_minor": 5
}
