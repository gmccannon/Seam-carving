{
 "cells": [
  {
   "cell_type": "code",
   "execution_count": 1,
   "id": "006b9733",
   "metadata": {},
   "outputs": [],
   "source": [
    "myProcessedFile = \"CAS_processed_20_0.pgm\"\n",
    "studentProcessedFile = \"CAS_M_processed_20_0.pgm\""
   ]
  },
  {
   "cell_type": "code",
   "execution_count": 3,
   "id": "85b1a8f5",
   "metadata": {},
   "outputs": [],
   "source": [
    "myProcessedFile = \"CAS_2_processed_100_50.pgm\"\n",
    "studentProcessedFile = \"CAS_2_M_processed_100_50.pgm\""
   ]
  },
  {
   "cell_type": "code",
   "execution_count": 4,
   "id": "b7694e27",
   "metadata": {},
   "outputs": [
    {
     "name": "stdout",
     "output_type": "stream",
     "text": [
      "Done w reading :  CAS_2_processed_100_50.pgm\n",
      "Done w reading :  CAS_2_M_processed_100_50.pgm\n",
      "They are same pgm image!\n"
     ]
    }
   ],
   "source": [
    "# CPSC435/535 - Algorithms Project3\n",
    "\n",
    "import numpy as np\n",
    "import sys\n",
    "\n",
    "# @param: .pgm filename\n",
    "# @return: a tuple (header, image array)\n",
    "def pgmFileRead(fileName):\n",
    "    # Open the file in read mode; Read all lines into a list\n",
    "    with open(fileName, 'r') as file:\n",
    "        lines = file.readlines()\n",
    "\n",
    "    img_header = [lines.pop(0)]  # P2\n",
    "    while lines[0][0] == \"#\":  # comments\n",
    "        img_header += [lines.pop(0)]\n",
    "    width_height = lines.pop(0)\n",
    "\n",
    "    width, height = (int(i) for i in width_height.split())  # aspect ratio\n",
    "    img_header += [width_height]\n",
    "    img_header += [lines.pop(0)]  # gray scale levels\n",
    "    img = np.array([int(n) for line in lines for n in line.split()])  # pixel values\n",
    "    img = img.reshape([height, width])\n",
    "    return img_header, img\n",
    "\n",
    "def comparePgmImages(myProcessedFile, studentProcessedFile):\n",
    "    info = \"\"\n",
    "    img_header1, img1 = pgmFileRead(myProcessedFile)\n",
    "    print(\"Done w reading : \", myProcessedFile)\n",
    "    img_header2, img2 = pgmFileRead(studentProcessedFile)\n",
    "    print(\"Done w reading : \", studentProcessedFile)\n",
    "\n",
    "    size1 = np.array(list(map(int, img_header1[-2].split())))\n",
    "    size2 = np.array(list(map(int, img_header2[-2].split())))\n",
    "\n",
    "    if img_header1[0] != img_header2[0]:\n",
    "        info += \"Different: format is different!\\n\"\n",
    "    elif sum(abs(size1 - size2)) > 0:\n",
    "        info += 'Different: image size!\\n'\n",
    "    elif img_header1[-1] != img_header2[-1]:\n",
    "        info += \"Different: gray scale level!\\n\"\n",
    "    elif sum(sum(abs(img1-img2))) > 0:\n",
    "        info += \"Different: some pixel values!\\n\"\n",
    "    return info\n",
    "\n",
    "info = comparePgmImages(myProcessedFile, studentProcessedFile)\n",
    "if len(info) > 0:\n",
    "    print(info)\n",
    "else:\n",
    "    print(\"They are same pgm image!\")\n",
    "    "
   ]
  },
  {
   "cell_type": "code",
   "execution_count": null,
   "id": "723f7515",
   "metadata": {},
   "outputs": [],
   "source": []
  }
 ],
 "metadata": {
  "kernelspec": {
   "display_name": "Python 3 (ipykernel)",
   "language": "python",
   "name": "python3"
  },
  "language_info": {
   "codemirror_mode": {
    "name": "ipython",
    "version": 3
   },
   "file_extension": ".py",
   "mimetype": "text/x-python",
   "name": "python",
   "nbconvert_exporter": "python",
   "pygments_lexer": "ipython3",
   "version": "3.9.6"
  }
 },
 "nbformat": 4,
 "nbformat_minor": 5
}
